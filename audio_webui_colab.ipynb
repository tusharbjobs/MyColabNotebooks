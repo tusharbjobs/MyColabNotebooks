{
  "nbformat": 4,
  "nbformat_minor": 0,
  "metadata": {
    "colab": {
      "private_outputs": true,
      "provenance": [],
      "gpuType": "T4",
      "include_colab_link": true
    },
    "kernelspec": {
      "name": "python3",
      "display_name": "Python 3"
    },
    "language_info": {
      "name": "python"
    },
    "accelerator": "GPU"
  },
  "cells": [
    {
      "cell_type": "markdown",
      "metadata": {
        "id": "view-in-github",
        "colab_type": "text"
      },
      "source": [
        "<a href=\"https://colab.research.google.com/github/tusharbjobs/MyColabNotebooks/blob/main/audio_webui_colab.ipynb\" target=\"_parent\"><img src=\"https://colab.research.google.com/assets/colab-badge.svg\" alt=\"Open In Colab\"/></a>"
      ]
    },
    {
      "cell_type": "markdown",
      "source": [
        "## Before running\n",
        "1. click on \"`Runtime`\".\n",
        "2. click on \"`Change runtime type`\".\n",
        "3. set \"`Hardware accelerator`\" to \"`GPU`\".\n",
        "4. click on \"`save`\"."
      ],
      "metadata": {
        "id": "sdEMR6I1E8F3"
      }
    },
    {
      "cell_type": "code",
      "source": [
        "# @title Activate audio (prevents automatic shutdown) { display-mode: \"form\" }\n",
        "%%html\n",
        "<audio src=\"https://oobabooga.github.io/silence.m4a\" controls>"
      ],
      "metadata": {
        "id": "OM2iVlTZC8CN"
      },
      "execution_count": null,
      "outputs": []
    },
    {
      "cell_type": "code",
      "source": [
        "!sudo update-alternatives --install /usr/bin/python3 python3 /usr/bin/python3.10 1\n",
        "!sudo update-alternatives --config python3"
      ],
      "metadata": {
        "id": "14HgWTlN8iPY"
      },
      "execution_count": null,
      "outputs": []
    },
    {
      "cell_type": "code",
      "source": [
        "!python --version"
      ],
      "metadata": {
        "id": "gTcSE1v577rj"
      },
      "execution_count": null,
      "outputs": []
    },
    {
      "cell_type": "code",
      "source": [
        "!sudo apt update\n",
        "!sudo apt install python3-pip"
      ],
      "metadata": {
        "id": "_jS9MMK8D_Nz"
      },
      "execution_count": null,
      "outputs": []
    },
    {
      "cell_type": "code",
      "source": [
        "!pip3 --version"
      ],
      "metadata": {
        "id": "oNhjCmeL-dkP"
      },
      "execution_count": null,
      "outputs": []
    },
    {
      "cell_type": "code",
      "source": [
        "!python3.10 --version"
      ],
      "metadata": {
        "id": "0n3Wu-B2CFus"
      },
      "execution_count": null,
      "outputs": []
    },
    {
      "cell_type": "code",
      "source": [
        "!sudo apt-get install --reinstall python3.10 python3.10-venv python3.10-distutils"
      ],
      "metadata": {
        "id": "1GLamQmiClYd"
      },
      "execution_count": null,
      "outputs": []
    },
    {
      "cell_type": "code",
      "execution_count": null,
      "metadata": {
        "id": "4BNv3IMvDMjX"
      },
      "outputs": [],
      "source": [
        "#@title Setup { display-mode: \"form\" }\n",
        "#@markdown 1. Clones https://github.com/gitmylo/audio-webui/\n",
        "#@markdown 2. Cd's into `audio-webui`\n",
        "#@markdown 3. Fix some google colab default packages\n",
        "\n",
        "!git clone https://github.com/gitmylo/audio-webui/\n",
        "%cd audio-webui\n",
        "\n",
        "!pip install \"jax[cuda12_local]==0.4.23\" -f https://storage.googleapis.com/jax-releases/jax_cuda_releases.html\n",
        "!pip install diffusers==0.11.1\n",
        "!pip install transformers scipy ftfy accelerate\n",
        "!pip uninstall tensorflow -y\n",
        "!pip install --upgrade numpy==1.23.5"
      ]
    },
    {
      "cell_type": "code",
      "source": [
        "ls"
      ],
      "metadata": {
        "id": "acDM1f7y7kK5"
      },
      "execution_count": null,
      "outputs": []
    },
    {
      "cell_type": "code",
      "source": [
        "cd audio-webui/"
      ],
      "metadata": {
        "id": "lIZu1kLu7mMP"
      },
      "execution_count": null,
      "outputs": []
    },
    {
      "cell_type": "code",
      "source": [
        "#@title Launching { display-mode: \"form\" }\n",
        "username = 'tusharbhangale' #@param {type:\"string\"}\n",
        "#@markdown Default: \"`user`\"<br>\n",
        "#@markdown Sets the username for the webui\n",
        "\n",
        "#@markdown\n",
        "\n",
        "password = 'wg4XgpDsWvDOzHF' #@param {type:\"string\"}\n",
        "#@markdown Default: \"`pass`\", **please change this**<br>\n",
        "#@markdown Sets the password for the webui\n",
        "\n",
        "#@markdown\n",
        "\n",
        "args = '' #@param {type:\"string\"}\n",
        "#@markdown Default: empty<br>\n",
        "#@markdown Sets the other args for the webui\n",
        "\n",
        "#@markdown\n",
        "\n",
        "args = f'-sv {args} -s -u \"{username}\" -p \"{password}\"'\n",
        "!python3.10 main.py $args"
      ],
      "metadata": {
        "id": "LqmO0xhlJxVa"
      },
      "execution_count": null,
      "outputs": []
    }
  ]
}